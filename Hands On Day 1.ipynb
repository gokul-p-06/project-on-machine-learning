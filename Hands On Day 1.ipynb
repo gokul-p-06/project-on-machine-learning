{
 "cells": [
  {
   "cell_type": "code",
   "execution_count": 1,
   "id": "742416a7-2967-47ec-b3a5-602d684dc94c",
   "metadata": {},
   "outputs": [],
   "source": [
    "#declare a variable\n",
    "#variables are the containers use to store any data types\n",
    "X=10"
   ]
  },
  {
   "cell_type": "code",
   "execution_count": 2,
   "id": "ab0c80f3-804e-4549-add6-0da29087db90",
   "metadata": {},
   "outputs": [
    {
     "name": "stdout",
     "output_type": "stream",
     "text": [
      "10\n"
     ]
    }
   ],
   "source": [
    "# print the variable\n",
    "print(X)"
   ]
  },
  {
   "cell_type": "code",
   "execution_count": 3,
   "id": "680f9f68-f06e-453c-8412-39f8acf298e1",
   "metadata": {},
   "outputs": [
    {
     "data": {
      "text/plain": [
       "int"
      ]
     },
     "execution_count": 3,
     "metadata": {},
     "output_type": "execute_result"
    }
   ],
   "source": [
    "#check the datatype of the variable\n",
    "type(X)"
   ]
  },
  {
   "cell_type": "code",
   "execution_count": 4,
   "id": "b47bde08-2f1f-4473-b90a-09b16c793a90",
   "metadata": {},
   "outputs": [
    {
     "name": "stdout",
     "output_type": "stream",
     "text": [
      "datatype of the variable  <class 'int'>\n"
     ]
    }
   ],
   "source": [
    "# create an integer datatype \n",
    "int_1=20\n",
    "\n",
    "# show the datatype\n",
    "print('datatype of the variable ',type(int_1))"
   ]
  },
  {
   "cell_type": "code",
   "execution_count": 5,
   "id": "8257143d-7ac5-4e8f-9ee3-b504331320e1",
   "metadata": {},
   "outputs": [
    {
     "name": "stdout",
     "output_type": "stream",
     "text": [
      "datatype of the variable  <class 'float'>\n"
     ]
    }
   ],
   "source": [
    "# create an float datatype\n",
    "float_1=20.38\n",
    "\n",
    "# show the datatype \n",
    "print('datatype of the variable ',type(float_1))"
   ]
  },
  {
   "cell_type": "code",
   "execution_count": 6,
   "id": "a72d1672-f34b-43b4-ba0e-fb3c490aee33",
   "metadata": {},
   "outputs": [
    {
     "name": "stdout",
     "output_type": "stream",
     "text": [
      "datatype of the variable  <class 'str'>\n"
     ]
    }
   ],
   "source": [
    "# create an string datatype\n",
    "string_1='Gokul'\n",
    "\n",
    "# show the datatype \n",
    "print('datatype of the variable ',type(string_1))"
   ]
  },
  {
   "cell_type": "code",
   "execution_count": 7,
   "id": "a3366a75-b7bc-4899-adcc-514895cc65eb",
   "metadata": {},
   "outputs": [
    {
     "name": "stdout",
     "output_type": "stream",
     "text": [
      "datatype of the variable  <class 'list'>\n",
      "datatype of the variable  <class 'list'>\n",
      "datatype of the variable  <class 'list'>\n"
     ]
    }
   ],
   "source": [
    "# create an list\n",
    "list_1=[10,20,30,40]\n",
    "list_2=[10.38,20.46,30.39,40.68]\n",
    "list_3=['Gokul','Nirmal','Nandhini','Vetrivel']\n",
    "\n",
    "# show the datatype \n",
    "print('datatype of the variable ',type(list_1))\n",
    "print('datatype of the variable ',type(list_2))\n",
    "print('datatype of the variable ',type(list_3))"
   ]
  },
  {
   "cell_type": "code",
   "execution_count": 8,
   "id": "8c961ba2-6887-4d0a-baf2-be0bae18373c",
   "metadata": {},
   "outputs": [
    {
     "name": "stdout",
     "output_type": "stream",
     "text": [
      "datatype of the variable  <class 'tuple'>\n",
      "datatype of the variable  <class 'tuple'>\n",
      "datatype of the variable  <class 'tuple'>\n"
     ]
    }
   ],
   "source": [
    "# create an tuple\n",
    "tuple_1=(10,20,30,40)\n",
    "tuple_2=(10.38,20.46,30.39,40.68)\n",
    "tuple_3=('Gokul','Nirmal','Nandhini','Vetrivel')\n",
    "\n",
    "# show the datatype \n",
    "print('datatype of the variable ',type(tuple_1))\n",
    "print('datatype of the variable ',type(tuple_2))\n",
    "print('datatype of the variable ',type(tuple_3))"
   ]
  },
  {
   "cell_type": "code",
   "execution_count": 9,
   "id": "198e9beb-6c4f-464b-b39e-b70bdf3d25e5",
   "metadata": {},
   "outputs": [
    {
     "name": "stdout",
     "output_type": "stream",
     "text": [
      "datatype of the variable  <class 'set'>\n",
      "datatype of the variable  <class 'set'>\n",
      "datatype of the variable  <class 'set'>\n"
     ]
    }
   ],
   "source": [
    "# create an set\n",
    "set_1={10,20,30,40}\n",
    "set_2={10.38,20.46,30.39,40.68}\n",
    "set_3={'Gokul','Nirmal','Nandhini','Vetrivel'}\n",
    "\n",
    "# show the datatype \n",
    "print('datatype of the variable ',type(set_1))\n",
    "print('datatype of the variable ',type(set_2))\n",
    "print('datatype of the variable ',type(set_3))"
   ]
  },
  {
   "cell_type": "code",
   "execution_count": 10,
   "id": "f02ecbe3-b57d-48dd-b1e0-590f044859c5",
   "metadata": {},
   "outputs": [
    {
     "name": "stdout",
     "output_type": "stream",
     "text": [
      "datatype of the variable <class 'bool'>\n",
      "datatype of the variable <class 'bool'>\n"
     ]
    }
   ],
   "source": [
    "# create an boolean datetype\n",
    "boolean_1=True\n",
    "boolean_2=False\n",
    "\n",
    "# show the datatype\n",
    "print('datatype of the variable',type(boolean_1))\n",
    "print('datatype of the variable',type(boolean_2))"
   ]
  },
  {
   "cell_type": "code",
   "execution_count": 11,
   "id": "a2e5f187-d044-4252-bb8f-bcd6a16ef2e7",
   "metadata": {},
   "outputs": [
    {
     "name": "stdout",
     "output_type": "stream",
     "text": [
      "datatype of the variable <class 'dict'>\n"
     ]
    }
   ],
   "source": [
    "# create an dictonary datatype\n",
    "dictonary_1={'list_1':[10,20,30,40],\n",
    "             'tuple_1':(10,20,30,40),\n",
    "             'set_1':{10,20,30,40}}\n",
    "\n",
    "# show the datatype\n",
    "print('datatype of the variable',type(dictonary_1))"
   ]
  },
  {
   "cell_type": "markdown",
   "id": "7eb8f1de-8fce-43ed-bd25-1a7cdbaf5986",
   "metadata": {},
   "source": [
    "# basic operation\n"
   ]
  },
  {
   "cell_type": "code",
   "execution_count": 13,
   "id": "10dbb532-b029-40c9-b96d-f340e08e5f0f",
   "metadata": {},
   "outputs": [
    {
     "name": "stdout",
     "output_type": "stream",
     "text": [
      "datatype of the variable <class 'float'>\n",
      "datatype of the variable <class 'int'>\n"
     ]
    }
   ],
   "source": [
    "# task1:type casting\n",
    "float_2=45.96\n",
    "\n",
    "# show the datatype\n",
    "print('datatype of the variable',type(float_2))\n",
    "\n",
    "# type casting\n",
    "int_2=int(float_2)\n",
    "\n",
    "# show the datatype\n",
    "print('datatype of the variable',type(int_2))"
   ]
  },
  {
   "cell_type": "code",
   "execution_count": 14,
   "id": "90ff3a78-9268-4bef-9e4c-75459e979945",
   "metadata": {},
   "outputs": [
    {
     "name": "stdout",
     "output_type": "stream",
     "text": [
      "datatype of the variable <class 'int'>\n",
      "datatype of the variable <class 'float'>\n"
     ]
    }
   ],
   "source": [
    "# Task1:type casting\n",
    "int_3=5\n",
    "\n",
    "# show the datatype\n",
    "print('datatype of the variable',type(int_3))\n",
    "\n",
    "# type casting\n",
    "float_3=float(int_3)\n",
    "\n",
    "# show the datatype\n",
    "print('datatype of the variable',type(float_3))"
   ]
  },
  {
   "cell_type": "code",
   "execution_count": 15,
   "id": "07d2973a-1245-4681-9c83-71cbdbcce63f",
   "metadata": {},
   "outputs": [
    {
     "name": "stdout",
     "output_type": "stream",
     "text": [
      "rounded values are: 10.123\n"
     ]
    }
   ],
   "source": [
    "#Task2:use of round function\n",
    "float_4=10.1234567890\n",
    "\n",
    "# round this value till 3 decimal places\n",
    "rounded_value=round(float_4,3)\n",
    "\n",
    "# show the output\n",
    "print('rounded values are:',rounded_value)"
   ]
  },
  {
   "cell_type": "markdown",
   "id": "7bf2547d-9648-489b-b3f6-1793cf18d4f7",
   "metadata": {},
   "source": [
    "# Arithmetic operations on a data"
   ]
  },
  {
   "cell_type": "code",
   "execution_count": 17,
   "id": "c31fb190-18dd-42bc-ad48-2fd0d814e1a1",
   "metadata": {},
   "outputs": [
    {
     "name": "stdout",
     "output_type": "stream",
     "text": [
      "addition of two variables: 30\n"
     ]
    }
   ],
   "source": [
    "# Additon operation\n",
    "# declare the variable\n",
    "a=10\n",
    "b=20\n",
    "\n",
    "#perform the sum\n",
    "sum_1=a+b\n",
    "\n",
    "#show the output\n",
    "print('addition of two variables:',sum_1)"
   ]
  },
  {
   "cell_type": "code",
   "execution_count": 18,
   "id": "2c7f93ef-5a33-493b-8631-65147c4372a5",
   "metadata": {},
   "outputs": [
    {
     "name": "stdout",
     "output_type": "stream",
     "text": [
      "subraction of two variables: 10\n"
     ]
    }
   ],
   "source": [
    "# subraction operation\n",
    "# declare the variable\n",
    "a=30\n",
    "b=20\n",
    "\n",
    "#perform the sum\n",
    "sum_1=a-b\n",
    "\n",
    "#show the output\n",
    "print('subraction of two variables:',sum_1)"
   ]
  },
  {
   "cell_type": "code",
   "execution_count": 19,
   "id": "d0b7b59a-4bab-456d-8e98-42eaf94162bb",
   "metadata": {},
   "outputs": [
    {
     "name": "stdout",
     "output_type": "stream",
     "text": [
      "multiplication of two variables: 200\n"
     ]
    }
   ],
   "source": [
    "# Multiplication operation\n",
    "# declare the variable\n",
    "a=10\n",
    "b=20\n",
    "\n",
    "#perform the sum\n",
    "sum_1=a*b\n",
    "\n",
    "#show the output\n",
    "print('multiplication of two variables:',sum_1)"
   ]
  },
  {
   "cell_type": "code",
   "execution_count": 20,
   "id": "b0a36471-e971-4f71-985c-7bf91351076b",
   "metadata": {},
   "outputs": [
    {
     "name": "stdout",
     "output_type": "stream",
     "text": [
      "division of two variables: 5.0\n"
     ]
    }
   ],
   "source": [
    "# Division operations\n",
    "# declare the variable\n",
    "a=100\n",
    "b=20\n",
    "\n",
    "#perform the sum\n",
    "sum_1=a/b\n",
    "\n",
    "#show the output\n",
    "print('division of two variables:',sum_1)"
   ]
  },
  {
   "cell_type": "markdown",
   "id": "77a63caa-a69d-4b1a-a488-c72a9a95bc58",
   "metadata": {},
   "source": [
    "# User defined function"
   ]
  },
  {
   "cell_type": "code",
   "execution_count": 22,
   "id": "26dd7f75-ddb2-41fb-8abd-5eaf080ecb5d",
   "metadata": {},
   "outputs": [
    {
     "data": {
      "text/plain": [
       "30"
      ]
     },
     "execution_count": 22,
     "metadata": {},
     "output_type": "execute_result"
    }
   ],
   "source": [
    "# Declare the function named as 'summation',who can perform the addtion in two numbers \n",
    "def summation():\n",
    "    x=10\n",
    "    y=20\n",
    "    summation=x+y\n",
    "    return summation\n",
    "\n",
    "# call the function\n",
    "summation()"
   ]
  },
  {
   "cell_type": "code",
   "execution_count": 23,
   "id": "5068e2a3-dbc2-4936-8b4f-6252248131a1",
   "metadata": {},
   "outputs": [
    {
     "data": {
      "text/plain": [
       "-10"
      ]
     },
     "execution_count": 23,
     "metadata": {},
     "output_type": "execute_result"
    }
   ],
   "source": [
    "# Declare the function named as in 'subraction',\n",
    "# who can the subraction between two variables\n",
    "def subraction(x,y):\n",
    "    subraction=x-y\n",
    "    return subraction\n",
    "\n",
    "# call the function\n",
    "subraction(10,20)"
   ]
  },
  {
   "cell_type": "code",
   "execution_count": 24,
   "id": "2304af7e-8348-443b-8dc2-12e04e78dad0",
   "metadata": {},
   "outputs": [
    {
     "name": "stdin",
     "output_type": "stream",
     "text": [
      "Give the first number: 1\n",
      "Give the second number: 1\n"
     ]
    },
    {
     "data": {
      "text/plain": [
       "1"
      ]
     },
     "execution_count": 24,
     "metadata": {},
     "output_type": "execute_result"
    }
   ],
   "source": [
    "# declare the function named as multiplication,\n",
    "# who can perform the multiplication between two variables\n",
    "# this time you need to take the input from the user\n",
    "\n",
    "# take the input from the user\n",
    "var_2=int(input('Give the first number:'))\n",
    "var_3=int(input('Give the second number:'))\n",
    "\n",
    "# make the user defined function\n",
    "def multiplication(var_2,var_3):\n",
    "    mul=var_2*var_3\n",
    "    return mul\n",
    "\n",
    "#call the function\n",
    "multiplication(var_2,var_3)"
   ]
  },
  {
   "cell_type": "code",
   "execution_count": null,
   "id": "486d67c3-6a1b-4ec0-9edd-721c9f3fc5ff",
   "metadata": {},
   "outputs": [],
   "source": []
  }
 ],
 "metadata": {
  "kernelspec": {
   "display_name": "Python 3 (ipykernel)",
   "language": "python",
   "name": "python3"
  },
  "language_info": {
   "codemirror_mode": {
    "name": "ipython",
    "version": 3
   },
   "file_extension": ".py",
   "mimetype": "text/x-python",
   "name": "python",
   "nbconvert_exporter": "python",
   "pygments_lexer": "ipython3",
   "version": "3.11.7"
  }
 },
 "nbformat": 4,
 "nbformat_minor": 5
}
